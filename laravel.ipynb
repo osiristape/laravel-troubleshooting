{
  "nbformat": 4,
  "nbformat_minor": 0,
  "metadata": {
    "colab": {
      "provenance": [],
      "authorship_tag": "ABX9TyOWGnHqolvU/Gbg4wmbovHn",
      "include_colab_link": true
    },
    "kernelspec": {
      "name": "python3",
      "display_name": "Python 3"
    },
    "language_info": {
      "name": "python"
    }
  },
  "cells": [
    {
      "cell_type": "markdown",
      "metadata": {
        "id": "view-in-github",
        "colab_type": "text"
      },
      "source": [
        "<a href=\"https://colab.research.google.com/github/osiristape/laravel-troubleshooting/blob/main/laravel.ipynb\" target=\"_parent\"><img src=\"https://colab.research.google.com/assets/colab-badge.svg\" alt=\"Open In Colab\"/></a>"
      ]
    },
    {
      "cell_type": "markdown",
      "source": [
        "```\n",
        "Latest Version:\n",
        "Composer: 2.7.7 (Composer 2)\n",
        "PHP: 8.3\n",
        "Laravel: 11\n",
        "\n",
        "----\n",
        "for demo only.\n",
        "----\n",
        "\n",
        "Xamp (Choose WAMP instead)\n",
        "Apache\n",
        "1. httpd.conf\n",
        "- ServerName localhost:XXXX\n",
        "- Listen XXXX\n",
        "2. php.ini\n",
        "- open: entension=curl, extention=ssl, extension=zip\n",
        "- close: extension=php_openssl.dll\n",
        "\n",
        "common mistake:\n",
        "; https://php.net/extension-dir\n",
        "extension_dir = \"\\ext\" (remain as \"\\ext\")\n",
        "; On windows:\n",
        "extension_dir=\"C:\\xampp\\php\\ext\"\n",
        "\n",
        "\"extension=ssl\" issue in composer\n",
        "- composer config disable-tls true (unsafe)\n",
        "----\n",
        "***composer config -g --disabled-tls true\n",
        "----\n",
        "\n",
        "- Laravel 11 requires Composer 2\n",
        "\n",
        "----\n",
        "***composer self-update --2\n",
        "----\n",
        "\n",
        "```\n",
        "\n",
        "\n",
        "\n"
      ],
      "metadata": {
        "id": "7fj-nOrWfZpM"
      }
    }
  ]
}